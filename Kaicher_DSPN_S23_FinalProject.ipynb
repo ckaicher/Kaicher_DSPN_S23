{
 "cells": [
  {
   "cell_type": "markdown",
   "id": "e7847df9",
   "metadata": {},
   "source": [
    "# Title"
   ]
  },
  {
   "cell_type": "markdown",
   "id": "d62fa7c1",
   "metadata": {},
   "source": [
    "## Background\n"
   ]
  },
  {
   "cell_type": "markdown",
   "id": "da85c4af",
   "metadata": {},
   "source": [
    "## Variables\n",
    "**Subject ID:** dyad_id\n",
    "\n",
    "**Demographic Measures:**\n",
    "- **Age:** (Age.Years_Child) Child age in years at the time of study participation, calculated by experimenter using DOB as reported by parent\n",
    "- **Sex:** (Sex_Child) Categorical male (0) or female (1), as reported by parent\n",
    "\n",
    "**Survey Measures:**\n",
    "- **Child Activities Inventory (CAI):** (CAI_Child) A continuous measure for gendered behavior in children (Golombok & Rust, 1993; Golombok et al., 2008). Parent specifies frequency of masculine and feminine behaviors, choosing from \"Never,\" \"Hardly ever,\" \"Sometimes,\" Often,\" and \"Very Often.\" “Male” and “female” items are added up, feminine score is subtracted from masculine score and converted into a “pseudo-T” scale by multiplying by 1.1 and adding 48.25. A higher score is more masculine behavior (mean=61.66 for boys) and lower score indicated more feminine behavior (mean=38.72 for girls).\n",
    "- **Spatial Toys and Activities Checklist (STAC):** (STAC_Child) Checklist developed by Nora Newcombe & Elizabeth Gunderson (not yet published) based off the children's book title checklist from Sénéchal et al., 1996. Checklist consists of 40 real games and 20 foils, and parents are instructed to choose the items that they know to be names of children’s games and toys. \n",
    "- **Spatial Home Learning Environment Questionnaire (Spatial HLE):** (HLE_Child) A questionnaire on the frequency of spatial games and activites also developed by Nora Newcombe & Elizabeth Gunderson (not yet published) adapted from Zippert & Rittle-Johnson, 2018. Parents are asked \"How frequently does your child engage in the following activities either alone or with others when they are at home?\" and choose from \"Never,\" \"Once a month,\" 2-3 time a month,\" \"1-2 times a week,\" \"3-4 times a week,\" 5-6 times a week,\" and \"Daily.\"\n",
    "\n",
    "| Survey Measure | Example Items |\n",
    "| --- | --- |\n",
    "| CAI | Jewelry, Tool set, Swords |\n",
    "| STAC | Minecraft, Magna-Tiles, Rinx |\n",
    "| Spatial HLE | Do mazes, Play with puzzles |\n",
    "\n",
    "**Cognitive Measures:**\n",
    "- **Corsi Block Task:** (CorsiBlock_Child and CorsiBlock_Parent) Visuo-spatial working memory test. Score is the max number of squares that participant can correctly remember order of being lit up on the computer screen.\n",
    "- **KBIT-2 Verbal Knowledge Raw Score:** (KBIT2.VerbalKnowl_Child and KBIT2.VerbalKnowl_Parent) Participants are asked to point to the image that matches the word given by the researcher. Score is total number of questions correctly answered.\n",
    "- **KBIT-2 Matrices Raw Score:** (KBIT2.Matrices_Child and KBIT2.Matrices_Parent) Participants are asked to choose which answer (out of 5 options) would correctly complete a matrix. Score is total number of questions correctly answered.\n",
    "- **Number Line Estimation:** (NumLine_Child and NumLine_Parent) Participants are told to guess where a number is located on a number line. Score is the average absolute difference between guess and correct answer.\n",
    "- **WJIII Calculation Subtest Score:** (WJCalc_Child and WJCalc_Parent) Test of formal math abilities, score is the total number of math problems correctly answered.\n",
    "\n"
   ]
  },
  {
   "cell_type": "markdown",
   "id": "5d2379b4",
   "metadata": {},
   "source": [
    "## Hypotheses\n",
    "- **Hypothesis 1:** Children’s math performance (as measured by a number line estimation task and a calculation task) is predicted by their gender (categorical and CAI) and prior experience with spatial activities (as measured by Spatial HLE Questionnaire and STAC) when controlling for spatial working memory (Corsi block), IQ measures (KBIT-2 verbal knowledge and matrices).\n",
    "\n",
    "    - $Y_{NumLine} = β_{0} + β_{1}X_{HLE} + β_{2}X_{STAC} +  β_{3}X_{sex} + β){4}X_{CAI} + β_{5}X_{corsi} + β_{6}X_{KBITVerbal} + β_{7}X_{KBITMatrices}$\n",
    "    - $Y_{WJCalc} = β_{0} + β_{1}X_{HLE} + β_{2}X_{STAC} + β_{3}X_{gender} + β_{4}X_{CAI} + β_{5}X_{corsi} + β_{6}X_{KBITVerbal} + β+{7}X_{KBITMatrices}$\n",
    "    - For both: $β_{1} != 0, β_{2} != 0, β_{3} != 0, β_{4} != 0$\n",
    "    \n",
    "    \n",
    "- **Hypothesis 2:** Parents’ math and spatial performance (as measured by a number line estimation task and a calculation task) is predictive of their children’s math and spatial performance and potentially mediated by the child’s spatial experience (Spatial HLE).\n",
    "\n",
    "    - $Y_{NumLineChild} = β_{0} + β_{1}X_{NumLineParent}$\n",
    "    - $Y_{WJCalcChild} =  β_{0} + β_{1}X_{WJCalcParent}$\n",
    "    - For both: $β_{1} != 0$\n"
   ]
  },
  {
   "cell_type": "markdown",
   "id": "8c1f361a",
   "metadata": {},
   "source": [
    "## Data Organization\n",
    "**Data Architecture**\n",
    "\n",
    "Data is organized in a dyadic structure, with each dyad being a parent and their child. Importantly, if a parent brought in 2 kids to participate in the study, the parent's data was duplicated such that their data was present in each child's dyad.\n",
    "\n",
    "**Data Cleansing & Tidying**\n",
    "1. Export original excel file into csv format\n",
    "2. Remove rows containing pilot data\n",
    "3. Convert Sex variable from Male and Female to 0 and 1, respectively\n",
    "4. Only keep measures that are relevant to my hypotheses\n",
    "    - dyad_id\n",
    "    - Sex_Child\n",
    "    - CAI_Child\n",
    "    - HLE_Child\n",
    "    - STAC_Child\n",
    "    - CorsiBlock_Child\n",
    "    - KBIT2.VerbalKnowl_Child\n",
    "    - KBIT2.Matrices_Child\n",
    "    - WJCalc_Child\n",
    "    - WJCalc_Parent\n",
    "    - NumLine_Child\n",
    "    - NumLine_Parent\n",
    "    \n",
    "    \n",
    "5. Create 2 separate tables, 1 for each hypothesis. This is done in order to avoid removing dyads that may be missing data relevant to one hypothesis but not the other. In other words, I want to make sure I have as many observations as possible for each hypothesis.\n",
    "\n",
    "\n",
    "6. Remove dyads with missing data from each table\n",
    " - Hypothesis 1 Table: dyads 1, 2, and 21\n",
    " - Hypothesis 2 Table: dyads 1, 18, 19, and 21\n"
   ]
  },
  {
   "cell_type": "markdown",
   "id": "bb7b8b5d",
   "metadata": {},
   "source": [
    "### Final Data Tables"
   ]
  },
  {
   "cell_type": "markdown",
   "id": "c35b09a7",
   "metadata": {},
   "source": [
    "**Hypothesis 1 Data Table:**"
   ]
  },
  {
   "cell_type": "code",
   "execution_count": 1,
   "id": "d4ed011c",
   "metadata": {},
   "outputs": [
    {
     "ename": "NameError",
     "evalue": "name 'read' is not defined",
     "output_type": "error",
     "traceback": [
      "\u001b[0;31m---------------------------------------------------------------------------\u001b[0m",
      "\u001b[0;31mNameError\u001b[0m                                 Traceback (most recent call last)",
      "\u001b[0;32m/var/folders/g5/1rbd_9ns2sb7ccgj9td4k8gm0000gn/T/ipykernel_43012/3975212783.py\u001b[0m in \u001b[0;36m<module>\u001b[0;34m\u001b[0m\n\u001b[0;32m----> 1\u001b[0;31m \u001b[0mdat\u001b[0m \u001b[0;34m=\u001b[0m \u001b[0mread\u001b[0m\u001b[0;34m.\u001b[0m\u001b[0mcsv\u001b[0m\u001b[0;34m(\u001b[0m\u001b[0mfile\u001b[0m\u001b[0;34m=\u001b[0m\u001b[0;34m\"CleanedDyadicData.csv\"\u001b[0m\u001b[0;34m)\u001b[0m\u001b[0;34m\u001b[0m\u001b[0;34m\u001b[0m\u001b[0m\n\u001b[0m\u001b[1;32m      2\u001b[0m \u001b[0mhead\u001b[0m\u001b[0;34m(\u001b[0m\u001b[0mdat\u001b[0m\u001b[0;34m)\u001b[0m\u001b[0;34m\u001b[0m\u001b[0;34m\u001b[0m\u001b[0m\n",
      "\u001b[0;31mNameError\u001b[0m: name 'read' is not defined"
     ]
    }
   ],
   "source": [
    "hyp1_dat = read.csv(file=\"Hyp1_Data.csv\")\n",
    "head(dat)"
   ]
  },
  {
   "cell_type": "markdown",
   "id": "5a14ca0a",
   "metadata": {},
   "source": [
    "**Hypothesis 2 Data Table:**"
   ]
  },
  {
   "cell_type": "code",
   "execution_count": null,
   "id": "3a5d2fa8",
   "metadata": {},
   "outputs": [],
   "source": [
    "hyp2_dat = read.csv(file=\"Hyp2_Data.csv\")\n",
    "head(dat)"
   ]
  },
  {
   "cell_type": "markdown",
   "id": "5505698c",
   "metadata": {},
   "source": [
    "## Analysis"
   ]
  },
  {
   "cell_type": "markdown",
   "id": "72b95c6e",
   "metadata": {},
   "source": [
    "### Hypothesis 1"
   ]
  },
  {
   "cell_type": "markdown",
   "id": "aa68c2c3",
   "metadata": {},
   "source": [
    "### Hypothesis 2: Parents’ math and spatial performance is predictive of their children’s math and spatial performance and potentially mediated by the child’s spatial experience.\n",
    "\n",
    "1. Check if response variables (Y) are normally distributed."
   ]
  },
  {
   "cell_type": "code",
   "execution_count": null,
   "id": "6a916e41",
   "metadata": {},
   "outputs": [],
   "source": [
    "library(tidyverse)\n",
    "\n",
    "ggplot(hyp2_dat, aes(x=NumLine_Child)) +\n",
    "    geom_histogram()\n",
    "    \n",
    "ggplot(hyp2_dat, aes(x=WJCalc_Child)) +\n",
    "    geom_histogram()"
   ]
  },
  {
   "cell_type": "markdown",
   "id": "398c2c15",
   "metadata": {},
   "source": [
    "2. Linear Models"
   ]
  },
  {
   "cell_type": "code",
   "execution_count": null,
   "id": "65c2a924",
   "metadata": {},
   "outputs": [],
   "source": [
    "numline_lm <- glm(NumLine_Child ~ NumLine_Parent, hyp2_dat)\n",
    "cv.err <- cv.glm(hyp2_dat, numline_lm, K=4)\n",
    "cv.err$delta \n",
    "\n",
    "calc_lm <- glm(WJCalc_Child ~ WJCalc_Parent, hyp2_dat)\n",
    "cv.err <- cv.glm(hyp2_dat, calc_lm, K=4)\n",
    "cv.err$delta "
   ]
  },
  {
   "cell_type": "markdown",
   "id": "3be18fe1",
   "metadata": {},
   "source": [
    "3. Bootstrapping"
   ]
  },
  {
   "cell_type": "code",
   "execution_count": null,
   "id": "a9014877",
   "metadata": {},
   "outputs": [],
   "source": [
    "library(boot)\n",
    "\n",
    "numline_boot <- function(data, index){  \n",
    "    return(coef(lm(NumLine_Child ~ NumLine_Parent, data=data, subset=index)))}\n",
    "\n",
    "calc_boot <- function(data, index){  \n",
    "    return(coef(lm(WJCalc_Child ~ WJCalc_Parent, data=data, subset=index)))}\n",
    "\n",
    "#sanity check\n",
    "print(numline_boot(hyp2_dat, 1:34))\n",
    "print(calc_boot(hyp2_dat, 1:34))\n",
    "\n",
    "#bootstrap for number line model\n",
    "numline_boot_obj = boot(hyp2_dat, numline_boot, R=1000)\n",
    "print(numline_boot_obj)\n",
    "attributes(numline_boot_obj)\n",
    "\n",
    "hist(boot(hyp2_dat, numline_boot, R=1000)$t[,2], xlab=\"Parent numberline coefficient\")\n",
    "\n",
    "#bootstrap for calculation model\n",
    "calc_boot_obj = boot(hyp2_dat, calc_boot, R=1000)\n",
    "print(calc_boot_obj)\n",
    "attributes(calc_boot_obj)\n",
    "\n",
    "hist(boot(hyp2_dat, calc_boot, R=1000)$t[,2], xlab=\"Parent calculation coefficient\")"
   ]
  },
  {
   "cell_type": "markdown",
   "id": "c3a9b402",
   "metadata": {},
   "source": [
    "4. Exploratory Mediation Analysis"
   ]
  },
  {
   "cell_type": "markdown",
   "id": "169db56f",
   "metadata": {},
   "source": [
    "Plot relationships between (1) child spatial experience, child numberline score, and parent numberline score; and (2) child spatial experience, child calculation score, and parent calculation score"
   ]
  },
  {
   "cell_type": "code",
   "execution_count": null,
   "id": "9b9885d3",
   "metadata": {},
   "outputs": [],
   "source": [
    "#NumLine plot\n",
    "ggplot(hyp2_dat, aes(x=NumLine_Parent, y=NumLine_Child, color = HLE_Child)) +\n",
    "  geom_point(size = 2.5) +\n",
    "  geom_smooth()\n",
    "\n",
    "#Calc plot\n",
    "ggplot(hyp2_dat, aes(x=WJCalc_Parent, y=WJCalc_Child, color = HLE_Child)) +\n",
    "  geom_point(size = 2.5) +\n",
    "  geom_smooth()"
   ]
  },
  {
   "cell_type": "markdown",
   "id": "6ce26a09",
   "metadata": {},
   "source": [
    "Mediation Analyses"
   ]
  },
  {
   "cell_type": "code",
   "execution_count": null,
   "id": "c7a4ce36",
   "metadata": {},
   "outputs": [],
   "source": [
    "install.packages(\"mediation\")\n",
    "library(mediation)\n",
    "\n",
    "#NumLine analysis\n",
    "fitM <- lm(HLE_Child ~ NubLine_Parent, data=hyp2_dat) #Step 1: IV on M, parent numberline score predicting child spatial experience\n",
    "fitY <- lm(NumLine_Child ~ NumLine_Parent + HLE_Child, data=hyp2_dat) #Step 2: IV and M on DV, parent numberline and child spatial experience predicting child numberline score\n",
    "summary(fitM)\n",
    "summary(fitY)\n",
    "fitMed <- mediate(fitM, fitY, treat=\"NumLine_Parent\", mediator=\"HLE_Child\")\n",
    "summary(fitMed)\n",
    "\n",
    "#Calc analysis\n",
    "fitM <- lm(HLE_Child ~ WJCalc_Parent, data=hyp2_dat) #Step 1: IV on M, parent calculation predicting child spatial experience\n",
    "fitY <- lm(WJCalc_Child ~ WJCalc_Parent + HLE_Child, data=hyp2_dat) #Step 2: IV and M on DV, parent calculation score and child spatial experience predicting child calculation score\n",
    "summary(fitM)\n",
    "summary(fitY)\n",
    "fitMed <- mediate(fitM, fitY, treat=\"WJCalc_Parent\", mediator=\"HLE_Child\")\n",
    "summary(fitMed)"
   ]
  },
  {
   "cell_type": "markdown",
   "id": "6252f4de",
   "metadata": {},
   "source": [
    "## Conclusions"
   ]
  }
 ],
 "metadata": {
  "kernelspec": {
   "display_name": "Python 3 (ipykernel)",
   "language": "python",
   "name": "python3"
  },
  "language_info": {
   "codemirror_mode": {
    "name": "ipython",
    "version": 3
   },
   "file_extension": ".py",
   "mimetype": "text/x-python",
   "name": "python",
   "nbconvert_exporter": "python",
   "pygments_lexer": "ipython3",
   "version": "3.9.13"
  }
 },
 "nbformat": 4,
 "nbformat_minor": 5
}
