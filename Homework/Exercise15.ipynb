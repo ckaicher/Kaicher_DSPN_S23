{
  "cells": [
    {
      "cell_type": "markdown",
      "metadata": {
        "id": "-2W919d2ZXp7"
      },
      "source": [
        "# Exercise 15: Power Analyses"
      ]
    },
    {
      "cell_type": "markdown",
      "metadata": {
        "id": "L4nOzVhyZXqK"
      },
      "source": [
        "This  assignment is designed to give you practice with Monte Carlo methods to conduct power analyses via simulation. You won't need to load in any data for this homework. We will, however, be using parts of the homework from last week."
      ]
    },
    {
      "cell_type": "markdown",
      "metadata": {
        "id": "9DsyBTB6ZXqN"
      },
      "source": [
        "---\n",
        "## 1. Simulating data (1 points)\n"
      ]
    },
    {
      "cell_type": "markdown",
      "metadata": {
        "id": "J1f6MywYhyzN"
      },
      "source": [
        "Pull your `simulate_data()` function from your last homework and add it below. \n",
        "\n",
        "As a reminder, this function simulates the relationship between age, word reading experience, and reading comprehension skill. \n",
        "\n",
        "`c` is reading comprehension, and `x` is word reading experience."
      ]
    },
    {
      "cell_type": "code",
      "execution_count": null,
      "metadata": {
        "id": "UnBVazYfZXqP",
        "colab": {
          "base_uri": "https://localhost:8080/",
          "height": 283
        },
        "outputId": "e7491ad4-80e6-49b3-801d-48ef6f1981da"
      },
      "outputs": [
        {
          "output_type": "display_data",
          "data": {
            "text/html": [
              "<table class=\"dataframe\">\n",
              "<caption>A data.frame: 6 × 3</caption>\n",
              "<thead>\n",
              "\t<tr><th></th><th scope=col>a</th><th scope=col>x</th><th scope=col>c</th></tr>\n",
              "\t<tr><th></th><th scope=col>&lt;dbl&gt;</th><th scope=col>&lt;dbl&gt;</th><th scope=col>&lt;dbl&gt;</th></tr>\n",
              "</thead>\n",
              "<tbody>\n",
              "\t<tr><th scope=row>1</th><td>186.18390</td><td>104.08812</td><td>650.1076</td></tr>\n",
              "\t<tr><th scope=row>2</th><td>181.91310</td><td> 64.58186</td><td>345.7605</td></tr>\n",
              "\t<tr><th scope=row>3</th><td>172.51197</td><td>152.84554</td><td>619.0402</td></tr>\n",
              "\t<tr><th scope=row>4</th><td>164.18918</td><td> 78.95552</td><td>412.1988</td></tr>\n",
              "\t<tr><th scope=row>5</th><td> 86.15816</td><td>181.41483</td><td>677.4196</td></tr>\n",
              "\t<tr><th scope=row>6</th><td>197.20379</td><td> 92.55168</td><td>409.6035</td></tr>\n",
              "</tbody>\n",
              "</table>\n"
            ],
            "text/markdown": "\nA data.frame: 6 × 3\n\n| <!--/--> | a &lt;dbl&gt; | x &lt;dbl&gt; | c &lt;dbl&gt; |\n|---|---|---|---|\n| 1 | 186.18390 | 104.08812 | 650.1076 |\n| 2 | 181.91310 |  64.58186 | 345.7605 |\n| 3 | 172.51197 | 152.84554 | 619.0402 |\n| 4 | 164.18918 |  78.95552 | 412.1988 |\n| 5 |  86.15816 | 181.41483 | 677.4196 |\n| 6 | 197.20379 |  92.55168 | 409.6035 |\n\n",
            "text/latex": "A data.frame: 6 × 3\n\\begin{tabular}{r|lll}\n  & a & x & c\\\\\n  & <dbl> & <dbl> & <dbl>\\\\\n\\hline\n\t1 & 186.18390 & 104.08812 & 650.1076\\\\\n\t2 & 181.91310 &  64.58186 & 345.7605\\\\\n\t3 & 172.51197 & 152.84554 & 619.0402\\\\\n\t4 & 164.18918 &  78.95552 & 412.1988\\\\\n\t5 &  86.15816 & 181.41483 & 677.4196\\\\\n\t6 & 197.20379 &  92.55168 & 409.6035\\\\\n\\end{tabular}\n",
            "text/plain": [
              "  a         x         c       \n",
              "1 186.18390 104.08812 650.1076\n",
              "2 181.91310  64.58186 345.7605\n",
              "3 172.51197 152.84554 619.0402\n",
              "4 164.18918  78.95552 412.1988\n",
              "5  86.15816 181.41483 677.4196\n",
              "6 197.20379  92.55168 409.6035"
            ]
          },
          "metadata": {}
        }
      ],
      "source": [
        "sample_size = 100 # How many children in data set? \n",
        "age_lo = 80     # minimum age, in months\n",
        "age_hi = 200    # maximum age, in months\n",
        "beta_xa = 0.5   # amount by which experience changes for increase of one month in age\n",
        "beta_x0 = -5    # amount of experience when age = 0 (not interpretable, since minimum age for this data is 80 months)\n",
        "sd_x = 50       # standard dev of gaussian noise term, epsilon_x\n",
        "beta_ca = 0.8   # amount that comprehension score improves for every increase of one unit in age\n",
        "beta_cx = 3     # amount that comprehension score improves for every increase of one unit in reading experience\n",
        "beta_c0 = 10    # comprehension score when reading experience is 0. \n",
        "sd_c = 85      # standard dev of gaussian noise term, epsilon_c\n",
        "\n",
        "simulate_data <- function(sample_size, age_lo, age_hi, beta_xa, beta_x0, sd_x, beta_ca, beta_cx, beta_c0, sd_c) {\n",
        "      # WRITE YOUR CODE HERE\n",
        "           cols <- c(\"a\", \"x\", \"c\")\n",
        "      sim_dat = data.frame(matrix(nrow = sample_size, ncol = length(cols))) \n",
        "      colnames(sim_dat) = cols\n",
        "      sim_dat[,1] <- runif(sample_size, age_lo, age_hi)\n",
        "\n",
        "      for (i in 1:sample_size) {\n",
        "        noise_x <- rnorm(1, 0, sd_x)\n",
        "        noise_c <- rnorm(1, 0, sd_c)\n",
        "        sim_dat[i,2] <- (beta_xa * sim_dat[i,1]) + beta_x0 + noise_x\n",
        "        sim_dat[i,3] <- (beta_ca * sim_dat[i,1]) + (beta_cx * sim_dat[i,2]) + beta_c0 + noise_c\n",
        "      }\n",
        "      return (sim_dat)\n",
        "}\n",
        "\n",
        "dat <- simulate_data(sample_size, age_lo, age_hi, beta_xa, beta_x0, sd_x, beta_ca, beta_cx, beta_c0, sd_c)\n",
        "head(dat)"
      ]
    },
    {
      "cell_type": "markdown",
      "metadata": {
        "id": "T3b3_KsHk-xD"
      },
      "source": [
        "---\n",
        "## 2. `run_analysis()` function (2 pts)"
      ]
    },
    {
      "cell_type": "markdown",
      "metadata": {
        "id": "TJyPIaTO8zCS"
      },
      "source": [
        "Last week, we looked at whether word reading experience(`x`) mediated the relation between `age` and reading comprehension (`c`).\n",
        "\n",
        "Now we're going to use our `simulate_data()` function to conduct a power analysis. The goal is to determine how many participants we would need in order to detect both the mediated and the direct effects in this data. \n",
        "\n",
        "*Note: We're going to pretend for the sake of simplicity that we don't have any control over the ages of the children we get (so ages are generated using `runif(sample_size, age_lo, age_hi)`, although of course this would be an unusual situation in reality.*\n",
        "\n",
        "First, write a function, `run_analysis()`, that takes in simulated data, runs **your mediation from last week**, and returns a vector containing the ACME and ADE estimates and p-values (these are the `d0`, `d0.p`, `z0`, and `z0.p` features of the mediated model object, e.g., `fitMed$d0.p`). Print this function's output for the data we simulated previously. "
      ]
    },
    {
      "cell_type": "code",
      "execution_count": 5,
      "metadata": {
        "id": "AidH_KidrX9L",
        "scrolled": true,
        "colab": {
          "base_uri": "https://localhost:8080/"
        },
        "outputId": "3df637ee-8191-440f-91ad-b5ebf859f604"
      },
      "outputs": [
        {
          "output_type": "stream",
          "name": "stderr",
          "text": [
            "Installing package into ‘/usr/local/lib/R/site-library’\n",
            "(as ‘lib’ is unspecified)\n",
            "\n",
            "Loading required package: MASS\n",
            "\n",
            "Loading required package: Matrix\n",
            "\n",
            "Loading required package: mvtnorm\n",
            "\n",
            "Loading required package: sandwich\n",
            "\n",
            "mediation: Causal Mediation Analysis\n",
            "Version: 4.5.0\n",
            "\n",
            "\n"
          ]
        },
        {
          "output_type": "stream",
          "name": "stdout",
          "text": [
            "[1] 1.8992391 0.0000000 0.3390733 0.2620000\n"
          ]
        }
      ],
      "source": [
        "# WRITE YOUR CODE HERE\n",
        "install.packages(\"mediation\")\n",
        "library(mediation)\n",
        "run_analysis <- function(sim_dat) {\n",
        "  fitM <- lm(x ~ a, data=sim_dat)\n",
        "  fitY <- lm(c ~ x + a, data=sim_dat)\n",
        "  fitMed <- mediate(fitM, fitY, treat=\"a\", mediator=\"x\")\n",
        "  return (c(fitMed$d0, fitMed$d0.p, fitMed$z0, fitMed$z0.p))\n",
        "}\n",
        "\n",
        "med_values <- run_analysis(dat)\n",
        "print(med_values)\n"
      ]
    },
    {
      "cell_type": "markdown",
      "metadata": {
        "id": "bHxz5W2r5s79"
      },
      "source": [
        "---\n",
        "## 3. `repeat_analysis()` function (3 pts)"
      ]
    },
    {
      "cell_type": "markdown",
      "metadata": {
        "id": "G_jvc1XQBCpH"
      },
      "source": [
        "Next fill in the function `repeat_analysis()` below so that it simulates and analyzes data `num_simulations` times. Store the outputs from each simulation in the `simouts` matrix. Calculate and return the coverage across all the simulations run for both ACME and ADE."
      ]
    },
    {
      "cell_type": "code",
      "execution_count": 17,
      "metadata": {
        "id": "NheOpBDsBBo9"
      },
      "outputs": [],
      "source": [
        "repeat_analysis <- function(num_simulations, alpha, sample_size, age_lo, age_hi, \n",
        "        beta_xa, beta_x0, sd_x, beta_ca, beta_cx, beta_c0, sd_c) {\n",
        "    # Initialize simouts matrix for storing each output from run_analysis()\n",
        "    simouts <- matrix(rep(NA, num_simulations*4), nrow=num_simulations, ncol=4)\n",
        "    \n",
        "    # Start simulating\n",
        "    for (i in 1:num_simulations) {\n",
        "      dat <- simulate_data(sample_size, age_lo, age_hi, beta_xa, beta_x0, sd_x, beta_ca, beta_cx, beta_c0, sd_c)\n",
        "      simouts[i,] <- run_analysis(dat)\n",
        "    }\n",
        "\n",
        "    # Calculate coverage for both ACME and ADE estimates using p-values in simouts\n",
        "    ACME_cov = mean(simouts[,2] <= alpha)\n",
        "    ADE_cov = mean(simouts[,4] <= alpha)\n",
        "    \n",
        "    return(list(ACME_cov = ACME_cov, ADE_cov = ADE_cov))\n",
        "}"
      ]
    },
    {
      "cell_type": "markdown",
      "metadata": {
        "id": "bM5J5pYyQoRL"
      },
      "source": [
        "Now run the `repeat_analysis()` function using the same parameter settings as above, for 10 simulations, with an alpha criterion of 0.01. "
      ]
    },
    {
      "cell_type": "code",
      "execution_count": 18,
      "metadata": {
        "id": "RpURGbZQQlEK",
        "colab": {
          "base_uri": "https://localhost:8080/"
        },
        "outputId": "40af497f-8b4b-47ab-e47f-41a02e34f50b"
      },
      "outputs": [
        {
          "output_type": "stream",
          "name": "stdout",
          "text": [
            "$ACME_cov\n",
            "[1] 1\n",
            "\n",
            "$ADE_cov\n",
            "[1] 0.7\n",
            "\n"
          ]
        }
      ],
      "source": [
        "# WRITE YOUR CODE HERE\n",
        "cov <- repeat_analysis(num_simulations = 10, alpha = 0.01, sample_size, age_lo, age_hi, \n",
        "        beta_xa, beta_x0, sd_x, beta_ca, beta_cx, beta_c0, sd_c)\n",
        "print(cov)"
      ]
    },
    {
      "cell_type": "markdown",
      "metadata": {
        "id": "imIoN4w65s7_"
      },
      "source": [
        "---\n",
        "## 4. Testing different sample sizes (2 pts)"
      ]
    },
    {
      "cell_type": "markdown",
      "metadata": {
        "id": "CzeTaoY7SaXv"
      },
      "source": [
        "Finally, do the same thing (10 simulations, alpha criterion of 0.01) but for 5 different sample sizes: 50, 75, 100, 125, 150. You can do this using `map` (as in the tutorial), or a simple `for` loop, or by calculating each individually. Up to you! This should take around 3 minutes to run. "
      ]
    },
    {
      "cell_type": "code",
      "execution_count": 27,
      "metadata": {
        "id": "mp-a19XsS8Md"
      },
      "outputs": [],
      "source": [
        "# WRITE YOUR CODE HERE\n",
        "sample_sizes <- c(50, 75, 100, 125, 150)\n",
        "cov_vals <- data.frame(matrix(nrow = length(sample_sizes), ncol = 3))\n",
        "colnames(cov_vals) = c(\"sample_size\", \"ACME_cov\", \"ADE_cov\")\n",
        "cov_vals[,1] = sample_sizes\n",
        "\n",
        "for (i in 1:5) {\n",
        "  cov <- repeat_analysis(num_simulations = 10, alpha = 0.01, sample_size = sample_sizes[i], age_lo, age_hi, \n",
        "        beta_xa, beta_x0, sd_x, beta_ca, beta_cx, beta_c0, sd_c)\n",
        "  cov_vals[i,2:3] <- cov\n",
        "}\n"
      ]
    },
    {
      "cell_type": "markdown",
      "metadata": {
        "id": "akJwKCB7dkDw"
      },
      "source": [
        "Print your results. "
      ]
    },
    {
      "cell_type": "code",
      "execution_count": 28,
      "metadata": {
        "id": "gIkkWTG2aR4d",
        "scrolled": true,
        "colab": {
          "base_uri": "https://localhost:8080/"
        },
        "outputId": "34214919-f1da-42cf-bce9-d8113fa3f700"
      },
      "outputs": [
        {
          "output_type": "stream",
          "name": "stdout",
          "text": [
            "  sample_size ACME_cov ADE_cov\n",
            "1          50      0.4     0.2\n",
            "2          75      0.7     0.7\n",
            "3         100      0.9     0.6\n",
            "4         125      0.9     0.8\n",
            "5         150      1.0     1.0\n"
          ]
        }
      ],
      "source": [
        "# WRITE YOUR CODE HERE\n",
        "print(cov_vals)"
      ]
    },
    {
      "cell_type": "markdown",
      "metadata": {
        "id": "q3Oo6npB5s8B"
      },
      "source": [
        "## 5. Reflection (2 pts)"
      ]
    },
    {
      "cell_type": "markdown",
      "metadata": {
        "id": "tpbGkul2dr-5"
      },
      "source": [
        "If this were a real power analysis, we'd want to run more simulations per sample size (to get a more precise estimate of power) and we may also want to test out some other values of the parameters we used to simulate our data. However, what would you conclude just based on the results above? \n",
        "\n",
        "> Based on my results, I would conclude that a sample size of 150 is needed in order to correctly reject the null 100% of the time (at 0.01 type I error rate) for both the direct and indirect effects in the mediation analysis.\n",
        "> "
      ]
    },
    {
      "cell_type": "markdown",
      "metadata": {
        "id": "RcCo3QOifUi5"
      },
      "source": [
        "**Given** how we generated the data, why was the direct effect harder to detect than the mediated effect?\n",
        "> The direct effect was harder to detect that the indirect effect because reading experience values were calculated based on the generated age values, then we generated our reading comprehension values and took into account both reading experience and age when doing so. Therefore, we calculated our reading comprehension values around the stucture of the indirect pathway, building in the influence of age on reading experience (the mediating variable)."
      ]
    },
    {
      "cell_type": "markdown",
      "metadata": {
        "id": "C4MPECMmZXqe"
      },
      "source": [
        "**DUE:** 5pm EST, April 5, 2023"
      ]
    },
    {
      "cell_type": "markdown",
      "metadata": {
        "id": "r9GUofXN4BVy"
      },
      "source": [
        "**IMPORTANT** Did you collaborate with anyone on this assignment? If so, list their names here. \n",
        "> *Someone's Name*"
      ]
    }
  ],
  "metadata": {
    "colab": {
      "provenance": []
    },
    "kernelspec": {
      "display_name": "R",
      "language": "R",
      "name": "ir"
    },
    "language_info": {
      "codemirror_mode": "r",
      "file_extension": ".r",
      "mimetype": "text/x-r-source",
      "name": "R",
      "pygments_lexer": "r",
      "version": "4.2.0"
    }
  },
  "nbformat": 4,
  "nbformat_minor": 0
}