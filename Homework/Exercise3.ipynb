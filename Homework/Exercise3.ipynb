{
  "cells": [
    {
      "cell_type": "markdown",
      "metadata": {
        "id": "-2W919d2ZXp7"
      },
      "source": [
        "# Exercise 3: Data objects"
      ]
    },
    {
      "cell_type": "markdown",
      "metadata": {
        "id": "L4nOzVhyZXqK"
      },
      "source": [
        "These exercises are designed to get you comfortable extracting information from data objects. \n",
        "\n",
        "We'll work with the `Credit` dataset which comes in the `ISLR` package in R. This is a simulated dataset that provides credit and demographic information on 10,000 hypothetical customers."
      ]
    },
    {
      "cell_type": "markdown",
      "metadata": {
        "id": "9DsyBTB6ZXqN"
      },
      "source": [
        "---\n",
        "## 1. Load packages, data, model (1 point)\n",
        "\n",
        "Install and load `ISLR` below."
      ]
    },
    {
      "cell_type": "code",
      "execution_count": 23,
      "metadata": {
        "colab": {
          "base_uri": "https://localhost:8080/"
        },
        "id": "UnBVazYfZXqP",
        "outputId": "4c9a81c3-7d0a-4a10-eb36-02da5e7b8acd",
        "scrolled": true
      },
      "outputs": [
        {
          "output_type": "stream",
          "name": "stderr",
          "text": [
            "Installing package into ‘/usr/local/lib/R/site-library’\n",
            "(as ‘lib’ is unspecified)\n",
            "\n"
          ]
        }
      ],
      "source": [
        "install.packages(\"ISLR\")\n",
        "library(ISLR)"
      ]
    },
    {
      "cell_type": "markdown",
      "metadata": {
        "id": "_P8iA2ZZGqVn"
      },
      "source": [
        "Take a look at the first few rows of the `Credit` dataset."
      ]
    },
    {
      "cell_type": "code",
      "execution_count": 24,
      "metadata": {
        "scrolled": true,
        "id": "Lh7rocThGqVp",
        "outputId": "8b0a747c-98ea-42bf-edb4-11e7b2ff3e5e",
        "colab": {
          "base_uri": "https://localhost:8080/",
          "height": 1000
        }
      },
      "outputs": [
        {
          "output_type": "display_data",
          "data": {
            "text/html": [
              "<table class=\"dataframe\">\n",
              "<caption>A data.frame: 400 × 12</caption>\n",
              "<thead>\n",
              "\t<tr><th scope=col>ID</th><th scope=col>Income</th><th scope=col>Limit</th><th scope=col>Rating</th><th scope=col>Cards</th><th scope=col>Age</th><th scope=col>Education</th><th scope=col>Gender</th><th scope=col>Student</th><th scope=col>Married</th><th scope=col>Ethnicity</th><th scope=col>Balance</th></tr>\n",
              "\t<tr><th scope=col>&lt;int&gt;</th><th scope=col>&lt;dbl&gt;</th><th scope=col>&lt;int&gt;</th><th scope=col>&lt;int&gt;</th><th scope=col>&lt;int&gt;</th><th scope=col>&lt;int&gt;</th><th scope=col>&lt;int&gt;</th><th scope=col>&lt;fct&gt;</th><th scope=col>&lt;fct&gt;</th><th scope=col>&lt;fct&gt;</th><th scope=col>&lt;fct&gt;</th><th scope=col>&lt;int&gt;</th></tr>\n",
              "</thead>\n",
              "<tbody>\n",
              "\t<tr><td> 1</td><td> 14.891</td><td> 3606</td><td>283</td><td>2</td><td>34</td><td>11</td><td> Male </td><td>No </td><td>Yes</td><td>Caucasian       </td><td> 333</td></tr>\n",
              "\t<tr><td> 2</td><td>106.025</td><td> 6645</td><td>483</td><td>3</td><td>82</td><td>15</td><td>Female</td><td>Yes</td><td>Yes</td><td>Asian           </td><td> 903</td></tr>\n",
              "\t<tr><td> 3</td><td>104.593</td><td> 7075</td><td>514</td><td>4</td><td>71</td><td>11</td><td> Male </td><td>No </td><td>No </td><td>Asian           </td><td> 580</td></tr>\n",
              "\t<tr><td> 4</td><td>148.924</td><td> 9504</td><td>681</td><td>3</td><td>36</td><td>11</td><td>Female</td><td>No </td><td>No </td><td>Asian           </td><td> 964</td></tr>\n",
              "\t<tr><td> 5</td><td> 55.882</td><td> 4897</td><td>357</td><td>2</td><td>68</td><td>16</td><td> Male </td><td>No </td><td>Yes</td><td>Caucasian       </td><td> 331</td></tr>\n",
              "\t<tr><td> 6</td><td> 80.180</td><td> 8047</td><td>569</td><td>4</td><td>77</td><td>10</td><td> Male </td><td>No </td><td>No </td><td>Caucasian       </td><td>1151</td></tr>\n",
              "\t<tr><td> 7</td><td> 20.996</td><td> 3388</td><td>259</td><td>2</td><td>37</td><td>12</td><td>Female</td><td>No </td><td>No </td><td>African American</td><td> 203</td></tr>\n",
              "\t<tr><td> 8</td><td> 71.408</td><td> 7114</td><td>512</td><td>2</td><td>87</td><td> 9</td><td> Male </td><td>No </td><td>No </td><td>Asian           </td><td> 872</td></tr>\n",
              "\t<tr><td> 9</td><td> 15.125</td><td> 3300</td><td>266</td><td>5</td><td>66</td><td>13</td><td>Female</td><td>No </td><td>No </td><td>Caucasian       </td><td> 279</td></tr>\n",
              "\t<tr><td>10</td><td> 71.061</td><td> 6819</td><td>491</td><td>3</td><td>41</td><td>19</td><td>Female</td><td>Yes</td><td>Yes</td><td>African American</td><td>1350</td></tr>\n",
              "\t<tr><td>11</td><td> 63.095</td><td> 8117</td><td>589</td><td>4</td><td>30</td><td>14</td><td> Male </td><td>No </td><td>Yes</td><td>Caucasian       </td><td>1407</td></tr>\n",
              "\t<tr><td>12</td><td> 15.045</td><td> 1311</td><td>138</td><td>3</td><td>64</td><td>16</td><td> Male </td><td>No </td><td>No </td><td>Caucasian       </td><td>   0</td></tr>\n",
              "\t<tr><td>13</td><td> 80.616</td><td> 5308</td><td>394</td><td>1</td><td>57</td><td> 7</td><td>Female</td><td>No </td><td>Yes</td><td>Asian           </td><td> 204</td></tr>\n",
              "\t<tr><td>14</td><td> 43.682</td><td> 6922</td><td>511</td><td>1</td><td>49</td><td> 9</td><td> Male </td><td>No </td><td>Yes</td><td>Caucasian       </td><td>1081</td></tr>\n",
              "\t<tr><td>15</td><td> 19.144</td><td> 3291</td><td>269</td><td>2</td><td>75</td><td>13</td><td>Female</td><td>No </td><td>No </td><td>African American</td><td> 148</td></tr>\n",
              "\t<tr><td>16</td><td> 20.089</td><td> 2525</td><td>200</td><td>3</td><td>57</td><td>15</td><td>Female</td><td>No </td><td>Yes</td><td>African American</td><td>   0</td></tr>\n",
              "\t<tr><td>17</td><td> 53.598</td><td> 3714</td><td>286</td><td>3</td><td>73</td><td>17</td><td>Female</td><td>No </td><td>Yes</td><td>African American</td><td>   0</td></tr>\n",
              "\t<tr><td>18</td><td> 36.496</td><td> 4378</td><td>339</td><td>3</td><td>69</td><td>15</td><td>Female</td><td>No </td><td>Yes</td><td>Asian           </td><td> 368</td></tr>\n",
              "\t<tr><td>19</td><td> 49.570</td><td> 6384</td><td>448</td><td>1</td><td>28</td><td> 9</td><td>Female</td><td>No </td><td>Yes</td><td>Asian           </td><td> 891</td></tr>\n",
              "\t<tr><td>20</td><td> 42.079</td><td> 6626</td><td>479</td><td>2</td><td>44</td><td> 9</td><td> Male </td><td>No </td><td>No </td><td>Asian           </td><td>1048</td></tr>\n",
              "\t<tr><td>21</td><td> 17.700</td><td> 2860</td><td>235</td><td>4</td><td>63</td><td>16</td><td>Female</td><td>No </td><td>No </td><td>Asian           </td><td>  89</td></tr>\n",
              "\t<tr><td>22</td><td> 37.348</td><td> 6378</td><td>458</td><td>1</td><td>72</td><td>17</td><td>Female</td><td>No </td><td>No </td><td>Caucasian       </td><td> 968</td></tr>\n",
              "\t<tr><td>23</td><td> 20.103</td><td> 2631</td><td>213</td><td>3</td><td>61</td><td>10</td><td> Male </td><td>No </td><td>Yes</td><td>African American</td><td>   0</td></tr>\n",
              "\t<tr><td>24</td><td> 64.027</td><td> 5179</td><td>398</td><td>5</td><td>48</td><td> 8</td><td> Male </td><td>No </td><td>Yes</td><td>African American</td><td> 411</td></tr>\n",
              "\t<tr><td>25</td><td> 10.742</td><td> 1757</td><td>156</td><td>3</td><td>57</td><td>15</td><td>Female</td><td>No </td><td>No </td><td>Caucasian       </td><td>   0</td></tr>\n",
              "\t<tr><td>26</td><td> 14.090</td><td> 4323</td><td>326</td><td>5</td><td>25</td><td>16</td><td>Female</td><td>No </td><td>Yes</td><td>African American</td><td> 671</td></tr>\n",
              "\t<tr><td>27</td><td> 42.471</td><td> 3625</td><td>289</td><td>6</td><td>44</td><td>12</td><td>Female</td><td>Yes</td><td>No </td><td>Caucasian       </td><td> 654</td></tr>\n",
              "\t<tr><td>28</td><td> 32.793</td><td> 4534</td><td>333</td><td>2</td><td>44</td><td>16</td><td> Male </td><td>No </td><td>No </td><td>African American</td><td> 467</td></tr>\n",
              "\t<tr><td>29</td><td>186.634</td><td>13414</td><td>949</td><td>2</td><td>41</td><td>14</td><td>Female</td><td>No </td><td>Yes</td><td>African American</td><td>1809</td></tr>\n",
              "\t<tr><td>30</td><td> 26.813</td><td> 5611</td><td>411</td><td>4</td><td>55</td><td>16</td><td>Female</td><td>No </td><td>No </td><td>Caucasian       </td><td> 915</td></tr>\n",
              "\t<tr><td>⋮</td><td>⋮</td><td>⋮</td><td>⋮</td><td>⋮</td><td>⋮</td><td>⋮</td><td>⋮</td><td>⋮</td><td>⋮</td><td>⋮</td><td>⋮</td></tr>\n",
              "\t<tr><td>371</td><td> 35.610</td><td> 6135</td><td>466</td><td>4</td><td>40</td><td>12</td><td> Male </td><td>No </td><td>No </td><td>Caucasian       </td><td> 992</td></tr>\n",
              "\t<tr><td>372</td><td> 39.116</td><td> 2150</td><td>173</td><td>4</td><td>75</td><td>15</td><td> Male </td><td>No </td><td>No </td><td>Caucasian       </td><td>   0</td></tr>\n",
              "\t<tr><td>373</td><td> 19.782</td><td> 3782</td><td>293</td><td>2</td><td>46</td><td>16</td><td>Female</td><td>Yes</td><td>No </td><td>Caucasian       </td><td> 840</td></tr>\n",
              "\t<tr><td>374</td><td> 55.412</td><td> 5354</td><td>383</td><td>2</td><td>37</td><td>16</td><td>Female</td><td>Yes</td><td>Yes</td><td>Caucasian       </td><td>1003</td></tr>\n",
              "\t<tr><td>375</td><td> 29.400</td><td> 4840</td><td>368</td><td>3</td><td>76</td><td>18</td><td>Female</td><td>No </td><td>Yes</td><td>Caucasian       </td><td> 588</td></tr>\n",
              "\t<tr><td>376</td><td> 20.974</td><td> 5673</td><td>413</td><td>5</td><td>44</td><td>16</td><td>Female</td><td>No </td><td>Yes</td><td>Caucasian       </td><td>1000</td></tr>\n",
              "\t<tr><td>377</td><td> 87.625</td><td> 7167</td><td>515</td><td>2</td><td>46</td><td>10</td><td>Female</td><td>No </td><td>No </td><td>African American</td><td> 767</td></tr>\n",
              "\t<tr><td>378</td><td> 28.144</td><td> 1567</td><td>142</td><td>3</td><td>51</td><td>10</td><td> Male </td><td>No </td><td>Yes</td><td>Caucasian       </td><td>   0</td></tr>\n",
              "\t<tr><td>379</td><td> 19.349</td><td> 4941</td><td>366</td><td>1</td><td>33</td><td>19</td><td> Male </td><td>No </td><td>Yes</td><td>Caucasian       </td><td> 717</td></tr>\n",
              "\t<tr><td>380</td><td> 53.308</td><td> 2860</td><td>214</td><td>1</td><td>84</td><td>10</td><td> Male </td><td>No </td><td>Yes</td><td>Caucasian       </td><td>   0</td></tr>\n",
              "\t<tr><td>381</td><td>115.123</td><td> 7760</td><td>538</td><td>3</td><td>83</td><td>14</td><td>Female</td><td>No </td><td>No </td><td>African American</td><td> 661</td></tr>\n",
              "\t<tr><td>382</td><td>101.788</td><td> 8029</td><td>574</td><td>2</td><td>84</td><td>11</td><td> Male </td><td>No </td><td>Yes</td><td>Caucasian       </td><td> 849</td></tr>\n",
              "\t<tr><td>383</td><td> 24.824</td><td> 5495</td><td>409</td><td>1</td><td>33</td><td> 9</td><td> Male </td><td>Yes</td><td>No </td><td>Caucasian       </td><td>1352</td></tr>\n",
              "\t<tr><td>384</td><td> 14.292</td><td> 3274</td><td>282</td><td>9</td><td>64</td><td> 9</td><td> Male </td><td>No </td><td>Yes</td><td>Caucasian       </td><td> 382</td></tr>\n",
              "\t<tr><td>385</td><td> 20.088</td><td> 1870</td><td>180</td><td>3</td><td>76</td><td>16</td><td> Male </td><td>No </td><td>No </td><td>African American</td><td>   0</td></tr>\n",
              "\t<tr><td>386</td><td> 26.400</td><td> 5640</td><td>398</td><td>3</td><td>58</td><td>15</td><td>Female</td><td>No </td><td>No </td><td>Asian           </td><td> 905</td></tr>\n",
              "\t<tr><td>387</td><td> 19.253</td><td> 3683</td><td>287</td><td>4</td><td>57</td><td>10</td><td> Male </td><td>No </td><td>No </td><td>African American</td><td> 371</td></tr>\n",
              "\t<tr><td>388</td><td> 16.529</td><td> 1357</td><td>126</td><td>3</td><td>62</td><td> 9</td><td> Male </td><td>No </td><td>No </td><td>Asian           </td><td>   0</td></tr>\n",
              "\t<tr><td>389</td><td> 37.878</td><td> 6827</td><td>482</td><td>2</td><td>80</td><td>13</td><td>Female</td><td>No </td><td>No </td><td>Caucasian       </td><td>1129</td></tr>\n",
              "\t<tr><td>390</td><td> 83.948</td><td> 7100</td><td>503</td><td>2</td><td>44</td><td>18</td><td> Male </td><td>No </td><td>No </td><td>Caucasian       </td><td> 806</td></tr>\n",
              "\t<tr><td>391</td><td>135.118</td><td>10578</td><td>747</td><td>3</td><td>81</td><td>15</td><td>Female</td><td>No </td><td>Yes</td><td>Asian           </td><td>1393</td></tr>\n",
              "\t<tr><td>392</td><td> 73.327</td><td> 6555</td><td>472</td><td>2</td><td>43</td><td>15</td><td>Female</td><td>No </td><td>No </td><td>Caucasian       </td><td> 721</td></tr>\n",
              "\t<tr><td>393</td><td> 25.974</td><td> 2308</td><td>196</td><td>2</td><td>24</td><td>10</td><td> Male </td><td>No </td><td>No </td><td>Asian           </td><td>   0</td></tr>\n",
              "\t<tr><td>394</td><td> 17.316</td><td> 1335</td><td>138</td><td>2</td><td>65</td><td>13</td><td> Male </td><td>No </td><td>No </td><td>African American</td><td>   0</td></tr>\n",
              "\t<tr><td>395</td><td> 49.794</td><td> 5758</td><td>410</td><td>4</td><td>40</td><td> 8</td><td> Male </td><td>No </td><td>No </td><td>Caucasian       </td><td> 734</td></tr>\n",
              "\t<tr><td>396</td><td> 12.096</td><td> 4100</td><td>307</td><td>3</td><td>32</td><td>13</td><td> Male </td><td>No </td><td>Yes</td><td>Caucasian       </td><td> 560</td></tr>\n",
              "\t<tr><td>397</td><td> 13.364</td><td> 3838</td><td>296</td><td>5</td><td>65</td><td>17</td><td> Male </td><td>No </td><td>No </td><td>African American</td><td> 480</td></tr>\n",
              "\t<tr><td>398</td><td> 57.872</td><td> 4171</td><td>321</td><td>5</td><td>67</td><td>12</td><td>Female</td><td>No </td><td>Yes</td><td>Caucasian       </td><td> 138</td></tr>\n",
              "\t<tr><td>399</td><td> 37.728</td><td> 2525</td><td>192</td><td>1</td><td>44</td><td>13</td><td> Male </td><td>No </td><td>Yes</td><td>Caucasian       </td><td>   0</td></tr>\n",
              "\t<tr><td>400</td><td> 18.701</td><td> 5524</td><td>415</td><td>5</td><td>64</td><td> 7</td><td>Female</td><td>No </td><td>No </td><td>Asian           </td><td> 966</td></tr>\n",
              "</tbody>\n",
              "</table>\n"
            ],
            "text/markdown": "\nA data.frame: 400 × 12\n\n| ID &lt;int&gt; | Income &lt;dbl&gt; | Limit &lt;int&gt; | Rating &lt;int&gt; | Cards &lt;int&gt; | Age &lt;int&gt; | Education &lt;int&gt; | Gender &lt;fct&gt; | Student &lt;fct&gt; | Married &lt;fct&gt; | Ethnicity &lt;fct&gt; | Balance &lt;int&gt; |\n|---|---|---|---|---|---|---|---|---|---|---|---|\n|  1 |  14.891 |  3606 | 283 | 2 | 34 | 11 |  Male  | No  | Yes | Caucasian        |  333 |\n|  2 | 106.025 |  6645 | 483 | 3 | 82 | 15 | Female | Yes | Yes | Asian            |  903 |\n|  3 | 104.593 |  7075 | 514 | 4 | 71 | 11 |  Male  | No  | No  | Asian            |  580 |\n|  4 | 148.924 |  9504 | 681 | 3 | 36 | 11 | Female | No  | No  | Asian            |  964 |\n|  5 |  55.882 |  4897 | 357 | 2 | 68 | 16 |  Male  | No  | Yes | Caucasian        |  331 |\n|  6 |  80.180 |  8047 | 569 | 4 | 77 | 10 |  Male  | No  | No  | Caucasian        | 1151 |\n|  7 |  20.996 |  3388 | 259 | 2 | 37 | 12 | Female | No  | No  | African American |  203 |\n|  8 |  71.408 |  7114 | 512 | 2 | 87 |  9 |  Male  | No  | No  | Asian            |  872 |\n|  9 |  15.125 |  3300 | 266 | 5 | 66 | 13 | Female | No  | No  | Caucasian        |  279 |\n| 10 |  71.061 |  6819 | 491 | 3 | 41 | 19 | Female | Yes | Yes | African American | 1350 |\n| 11 |  63.095 |  8117 | 589 | 4 | 30 | 14 |  Male  | No  | Yes | Caucasian        | 1407 |\n| 12 |  15.045 |  1311 | 138 | 3 | 64 | 16 |  Male  | No  | No  | Caucasian        |    0 |\n| 13 |  80.616 |  5308 | 394 | 1 | 57 |  7 | Female | No  | Yes | Asian            |  204 |\n| 14 |  43.682 |  6922 | 511 | 1 | 49 |  9 |  Male  | No  | Yes | Caucasian        | 1081 |\n| 15 |  19.144 |  3291 | 269 | 2 | 75 | 13 | Female | No  | No  | African American |  148 |\n| 16 |  20.089 |  2525 | 200 | 3 | 57 | 15 | Female | No  | Yes | African American |    0 |\n| 17 |  53.598 |  3714 | 286 | 3 | 73 | 17 | Female | No  | Yes | African American |    0 |\n| 18 |  36.496 |  4378 | 339 | 3 | 69 | 15 | Female | No  | Yes | Asian            |  368 |\n| 19 |  49.570 |  6384 | 448 | 1 | 28 |  9 | Female | No  | Yes | Asian            |  891 |\n| 20 |  42.079 |  6626 | 479 | 2 | 44 |  9 |  Male  | No  | No  | Asian            | 1048 |\n| 21 |  17.700 |  2860 | 235 | 4 | 63 | 16 | Female | No  | No  | Asian            |   89 |\n| 22 |  37.348 |  6378 | 458 | 1 | 72 | 17 | Female | No  | No  | Caucasian        |  968 |\n| 23 |  20.103 |  2631 | 213 | 3 | 61 | 10 |  Male  | No  | Yes | African American |    0 |\n| 24 |  64.027 |  5179 | 398 | 5 | 48 |  8 |  Male  | No  | Yes | African American |  411 |\n| 25 |  10.742 |  1757 | 156 | 3 | 57 | 15 | Female | No  | No  | Caucasian        |    0 |\n| 26 |  14.090 |  4323 | 326 | 5 | 25 | 16 | Female | No  | Yes | African American |  671 |\n| 27 |  42.471 |  3625 | 289 | 6 | 44 | 12 | Female | Yes | No  | Caucasian        |  654 |\n| 28 |  32.793 |  4534 | 333 | 2 | 44 | 16 |  Male  | No  | No  | African American |  467 |\n| 29 | 186.634 | 13414 | 949 | 2 | 41 | 14 | Female | No  | Yes | African American | 1809 |\n| 30 |  26.813 |  5611 | 411 | 4 | 55 | 16 | Female | No  | No  | Caucasian        |  915 |\n| ⋮ | ⋮ | ⋮ | ⋮ | ⋮ | ⋮ | ⋮ | ⋮ | ⋮ | ⋮ | ⋮ | ⋮ |\n| 371 |  35.610 |  6135 | 466 | 4 | 40 | 12 |  Male  | No  | No  | Caucasian        |  992 |\n| 372 |  39.116 |  2150 | 173 | 4 | 75 | 15 |  Male  | No  | No  | Caucasian        |    0 |\n| 373 |  19.782 |  3782 | 293 | 2 | 46 | 16 | Female | Yes | No  | Caucasian        |  840 |\n| 374 |  55.412 |  5354 | 383 | 2 | 37 | 16 | Female | Yes | Yes | Caucasian        | 1003 |\n| 375 |  29.400 |  4840 | 368 | 3 | 76 | 18 | Female | No  | Yes | Caucasian        |  588 |\n| 376 |  20.974 |  5673 | 413 | 5 | 44 | 16 | Female | No  | Yes | Caucasian        | 1000 |\n| 377 |  87.625 |  7167 | 515 | 2 | 46 | 10 | Female | No  | No  | African American |  767 |\n| 378 |  28.144 |  1567 | 142 | 3 | 51 | 10 |  Male  | No  | Yes | Caucasian        |    0 |\n| 379 |  19.349 |  4941 | 366 | 1 | 33 | 19 |  Male  | No  | Yes | Caucasian        |  717 |\n| 380 |  53.308 |  2860 | 214 | 1 | 84 | 10 |  Male  | No  | Yes | Caucasian        |    0 |\n| 381 | 115.123 |  7760 | 538 | 3 | 83 | 14 | Female | No  | No  | African American |  661 |\n| 382 | 101.788 |  8029 | 574 | 2 | 84 | 11 |  Male  | No  | Yes | Caucasian        |  849 |\n| 383 |  24.824 |  5495 | 409 | 1 | 33 |  9 |  Male  | Yes | No  | Caucasian        | 1352 |\n| 384 |  14.292 |  3274 | 282 | 9 | 64 |  9 |  Male  | No  | Yes | Caucasian        |  382 |\n| 385 |  20.088 |  1870 | 180 | 3 | 76 | 16 |  Male  | No  | No  | African American |    0 |\n| 386 |  26.400 |  5640 | 398 | 3 | 58 | 15 | Female | No  | No  | Asian            |  905 |\n| 387 |  19.253 |  3683 | 287 | 4 | 57 | 10 |  Male  | No  | No  | African American |  371 |\n| 388 |  16.529 |  1357 | 126 | 3 | 62 |  9 |  Male  | No  | No  | Asian            |    0 |\n| 389 |  37.878 |  6827 | 482 | 2 | 80 | 13 | Female | No  | No  | Caucasian        | 1129 |\n| 390 |  83.948 |  7100 | 503 | 2 | 44 | 18 |  Male  | No  | No  | Caucasian        |  806 |\n| 391 | 135.118 | 10578 | 747 | 3 | 81 | 15 | Female | No  | Yes | Asian            | 1393 |\n| 392 |  73.327 |  6555 | 472 | 2 | 43 | 15 | Female | No  | No  | Caucasian        |  721 |\n| 393 |  25.974 |  2308 | 196 | 2 | 24 | 10 |  Male  | No  | No  | Asian            |    0 |\n| 394 |  17.316 |  1335 | 138 | 2 | 65 | 13 |  Male  | No  | No  | African American |    0 |\n| 395 |  49.794 |  5758 | 410 | 4 | 40 |  8 |  Male  | No  | No  | Caucasian        |  734 |\n| 396 |  12.096 |  4100 | 307 | 3 | 32 | 13 |  Male  | No  | Yes | Caucasian        |  560 |\n| 397 |  13.364 |  3838 | 296 | 5 | 65 | 17 |  Male  | No  | No  | African American |  480 |\n| 398 |  57.872 |  4171 | 321 | 5 | 67 | 12 | Female | No  | Yes | Caucasian        |  138 |\n| 399 |  37.728 |  2525 | 192 | 1 | 44 | 13 |  Male  | No  | Yes | Caucasian        |    0 |\n| 400 |  18.701 |  5524 | 415 | 5 | 64 |  7 | Female | No  | No  | Asian            |  966 |\n\n",
            "text/latex": "A data.frame: 400 × 12\n\\begin{tabular}{llllllllllll}\n ID & Income & Limit & Rating & Cards & Age & Education & Gender & Student & Married & Ethnicity & Balance\\\\\n <int> & <dbl> & <int> & <int> & <int> & <int> & <int> & <fct> & <fct> & <fct> & <fct> & <int>\\\\\n\\hline\n\t  1 &  14.891 &  3606 & 283 & 2 & 34 & 11 &  Male  & No  & Yes & Caucasian        &  333\\\\\n\t  2 & 106.025 &  6645 & 483 & 3 & 82 & 15 & Female & Yes & Yes & Asian            &  903\\\\\n\t  3 & 104.593 &  7075 & 514 & 4 & 71 & 11 &  Male  & No  & No  & Asian            &  580\\\\\n\t  4 & 148.924 &  9504 & 681 & 3 & 36 & 11 & Female & No  & No  & Asian            &  964\\\\\n\t  5 &  55.882 &  4897 & 357 & 2 & 68 & 16 &  Male  & No  & Yes & Caucasian        &  331\\\\\n\t  6 &  80.180 &  8047 & 569 & 4 & 77 & 10 &  Male  & No  & No  & Caucasian        & 1151\\\\\n\t  7 &  20.996 &  3388 & 259 & 2 & 37 & 12 & Female & No  & No  & African American &  203\\\\\n\t  8 &  71.408 &  7114 & 512 & 2 & 87 &  9 &  Male  & No  & No  & Asian            &  872\\\\\n\t  9 &  15.125 &  3300 & 266 & 5 & 66 & 13 & Female & No  & No  & Caucasian        &  279\\\\\n\t 10 &  71.061 &  6819 & 491 & 3 & 41 & 19 & Female & Yes & Yes & African American & 1350\\\\\n\t 11 &  63.095 &  8117 & 589 & 4 & 30 & 14 &  Male  & No  & Yes & Caucasian        & 1407\\\\\n\t 12 &  15.045 &  1311 & 138 & 3 & 64 & 16 &  Male  & No  & No  & Caucasian        &    0\\\\\n\t 13 &  80.616 &  5308 & 394 & 1 & 57 &  7 & Female & No  & Yes & Asian            &  204\\\\\n\t 14 &  43.682 &  6922 & 511 & 1 & 49 &  9 &  Male  & No  & Yes & Caucasian        & 1081\\\\\n\t 15 &  19.144 &  3291 & 269 & 2 & 75 & 13 & Female & No  & No  & African American &  148\\\\\n\t 16 &  20.089 &  2525 & 200 & 3 & 57 & 15 & Female & No  & Yes & African American &    0\\\\\n\t 17 &  53.598 &  3714 & 286 & 3 & 73 & 17 & Female & No  & Yes & African American &    0\\\\\n\t 18 &  36.496 &  4378 & 339 & 3 & 69 & 15 & Female & No  & Yes & Asian            &  368\\\\\n\t 19 &  49.570 &  6384 & 448 & 1 & 28 &  9 & Female & No  & Yes & Asian            &  891\\\\\n\t 20 &  42.079 &  6626 & 479 & 2 & 44 &  9 &  Male  & No  & No  & Asian            & 1048\\\\\n\t 21 &  17.700 &  2860 & 235 & 4 & 63 & 16 & Female & No  & No  & Asian            &   89\\\\\n\t 22 &  37.348 &  6378 & 458 & 1 & 72 & 17 & Female & No  & No  & Caucasian        &  968\\\\\n\t 23 &  20.103 &  2631 & 213 & 3 & 61 & 10 &  Male  & No  & Yes & African American &    0\\\\\n\t 24 &  64.027 &  5179 & 398 & 5 & 48 &  8 &  Male  & No  & Yes & African American &  411\\\\\n\t 25 &  10.742 &  1757 & 156 & 3 & 57 & 15 & Female & No  & No  & Caucasian        &    0\\\\\n\t 26 &  14.090 &  4323 & 326 & 5 & 25 & 16 & Female & No  & Yes & African American &  671\\\\\n\t 27 &  42.471 &  3625 & 289 & 6 & 44 & 12 & Female & Yes & No  & Caucasian        &  654\\\\\n\t 28 &  32.793 &  4534 & 333 & 2 & 44 & 16 &  Male  & No  & No  & African American &  467\\\\\n\t 29 & 186.634 & 13414 & 949 & 2 & 41 & 14 & Female & No  & Yes & African American & 1809\\\\\n\t 30 &  26.813 &  5611 & 411 & 4 & 55 & 16 & Female & No  & No  & Caucasian        &  915\\\\\n\t ⋮ & ⋮ & ⋮ & ⋮ & ⋮ & ⋮ & ⋮ & ⋮ & ⋮ & ⋮ & ⋮ & ⋮\\\\\n\t 371 &  35.610 &  6135 & 466 & 4 & 40 & 12 &  Male  & No  & No  & Caucasian        &  992\\\\\n\t 372 &  39.116 &  2150 & 173 & 4 & 75 & 15 &  Male  & No  & No  & Caucasian        &    0\\\\\n\t 373 &  19.782 &  3782 & 293 & 2 & 46 & 16 & Female & Yes & No  & Caucasian        &  840\\\\\n\t 374 &  55.412 &  5354 & 383 & 2 & 37 & 16 & Female & Yes & Yes & Caucasian        & 1003\\\\\n\t 375 &  29.400 &  4840 & 368 & 3 & 76 & 18 & Female & No  & Yes & Caucasian        &  588\\\\\n\t 376 &  20.974 &  5673 & 413 & 5 & 44 & 16 & Female & No  & Yes & Caucasian        & 1000\\\\\n\t 377 &  87.625 &  7167 & 515 & 2 & 46 & 10 & Female & No  & No  & African American &  767\\\\\n\t 378 &  28.144 &  1567 & 142 & 3 & 51 & 10 &  Male  & No  & Yes & Caucasian        &    0\\\\\n\t 379 &  19.349 &  4941 & 366 & 1 & 33 & 19 &  Male  & No  & Yes & Caucasian        &  717\\\\\n\t 380 &  53.308 &  2860 & 214 & 1 & 84 & 10 &  Male  & No  & Yes & Caucasian        &    0\\\\\n\t 381 & 115.123 &  7760 & 538 & 3 & 83 & 14 & Female & No  & No  & African American &  661\\\\\n\t 382 & 101.788 &  8029 & 574 & 2 & 84 & 11 &  Male  & No  & Yes & Caucasian        &  849\\\\\n\t 383 &  24.824 &  5495 & 409 & 1 & 33 &  9 &  Male  & Yes & No  & Caucasian        & 1352\\\\\n\t 384 &  14.292 &  3274 & 282 & 9 & 64 &  9 &  Male  & No  & Yes & Caucasian        &  382\\\\\n\t 385 &  20.088 &  1870 & 180 & 3 & 76 & 16 &  Male  & No  & No  & African American &    0\\\\\n\t 386 &  26.400 &  5640 & 398 & 3 & 58 & 15 & Female & No  & No  & Asian            &  905\\\\\n\t 387 &  19.253 &  3683 & 287 & 4 & 57 & 10 &  Male  & No  & No  & African American &  371\\\\\n\t 388 &  16.529 &  1357 & 126 & 3 & 62 &  9 &  Male  & No  & No  & Asian            &    0\\\\\n\t 389 &  37.878 &  6827 & 482 & 2 & 80 & 13 & Female & No  & No  & Caucasian        & 1129\\\\\n\t 390 &  83.948 &  7100 & 503 & 2 & 44 & 18 &  Male  & No  & No  & Caucasian        &  806\\\\\n\t 391 & 135.118 & 10578 & 747 & 3 & 81 & 15 & Female & No  & Yes & Asian            & 1393\\\\\n\t 392 &  73.327 &  6555 & 472 & 2 & 43 & 15 & Female & No  & No  & Caucasian        &  721\\\\\n\t 393 &  25.974 &  2308 & 196 & 2 & 24 & 10 &  Male  & No  & No  & Asian            &    0\\\\\n\t 394 &  17.316 &  1335 & 138 & 2 & 65 & 13 &  Male  & No  & No  & African American &    0\\\\\n\t 395 &  49.794 &  5758 & 410 & 4 & 40 &  8 &  Male  & No  & No  & Caucasian        &  734\\\\\n\t 396 &  12.096 &  4100 & 307 & 3 & 32 & 13 &  Male  & No  & Yes & Caucasian        &  560\\\\\n\t 397 &  13.364 &  3838 & 296 & 5 & 65 & 17 &  Male  & No  & No  & African American &  480\\\\\n\t 398 &  57.872 &  4171 & 321 & 5 & 67 & 12 & Female & No  & Yes & Caucasian        &  138\\\\\n\t 399 &  37.728 &  2525 & 192 & 1 & 44 & 13 &  Male  & No  & Yes & Caucasian        &    0\\\\\n\t 400 &  18.701 &  5524 & 415 & 5 & 64 &  7 & Female & No  & No  & Asian            &  966\\\\\n\\end{tabular}\n",
            "text/plain": [
              "    ID  Income  Limit Rating Cards Age Education Gender Student Married\n",
              "1    1   14.891  3606 283    2     34  11         Male  No      Yes    \n",
              "2    2  106.025  6645 483    3     82  15        Female Yes     Yes    \n",
              "3    3  104.593  7075 514    4     71  11         Male  No      No     \n",
              "4    4  148.924  9504 681    3     36  11        Female No      No     \n",
              "5    5   55.882  4897 357    2     68  16         Male  No      Yes    \n",
              "6    6   80.180  8047 569    4     77  10         Male  No      No     \n",
              "7    7   20.996  3388 259    2     37  12        Female No      No     \n",
              "8    8   71.408  7114 512    2     87   9         Male  No      No     \n",
              "9    9   15.125  3300 266    5     66  13        Female No      No     \n",
              "10  10   71.061  6819 491    3     41  19        Female Yes     Yes    \n",
              "11  11   63.095  8117 589    4     30  14         Male  No      Yes    \n",
              "12  12   15.045  1311 138    3     64  16         Male  No      No     \n",
              "13  13   80.616  5308 394    1     57   7        Female No      Yes    \n",
              "14  14   43.682  6922 511    1     49   9         Male  No      Yes    \n",
              "15  15   19.144  3291 269    2     75  13        Female No      No     \n",
              "16  16   20.089  2525 200    3     57  15        Female No      Yes    \n",
              "17  17   53.598  3714 286    3     73  17        Female No      Yes    \n",
              "18  18   36.496  4378 339    3     69  15        Female No      Yes    \n",
              "19  19   49.570  6384 448    1     28   9        Female No      Yes    \n",
              "20  20   42.079  6626 479    2     44   9         Male  No      No     \n",
              "21  21   17.700  2860 235    4     63  16        Female No      No     \n",
              "22  22   37.348  6378 458    1     72  17        Female No      No     \n",
              "23  23   20.103  2631 213    3     61  10         Male  No      Yes    \n",
              "24  24   64.027  5179 398    5     48   8         Male  No      Yes    \n",
              "25  25   10.742  1757 156    3     57  15        Female No      No     \n",
              "26  26   14.090  4323 326    5     25  16        Female No      Yes    \n",
              "27  27   42.471  3625 289    6     44  12        Female Yes     No     \n",
              "28  28   32.793  4534 333    2     44  16         Male  No      No     \n",
              "29  29  186.634 13414 949    2     41  14        Female No      Yes    \n",
              "30  30   26.813  5611 411    4     55  16        Female No      No     \n",
              "⋮   ⋮   ⋮       ⋮     ⋮      ⋮     ⋮   ⋮         ⋮      ⋮       ⋮      \n",
              "371 371  35.610  6135 466    4     40  12         Male  No      No     \n",
              "372 372  39.116  2150 173    4     75  15         Male  No      No     \n",
              "373 373  19.782  3782 293    2     46  16        Female Yes     No     \n",
              "374 374  55.412  5354 383    2     37  16        Female Yes     Yes    \n",
              "375 375  29.400  4840 368    3     76  18        Female No      Yes    \n",
              "376 376  20.974  5673 413    5     44  16        Female No      Yes    \n",
              "377 377  87.625  7167 515    2     46  10        Female No      No     \n",
              "378 378  28.144  1567 142    3     51  10         Male  No      Yes    \n",
              "379 379  19.349  4941 366    1     33  19         Male  No      Yes    \n",
              "380 380  53.308  2860 214    1     84  10         Male  No      Yes    \n",
              "381 381 115.123  7760 538    3     83  14        Female No      No     \n",
              "382 382 101.788  8029 574    2     84  11         Male  No      Yes    \n",
              "383 383  24.824  5495 409    1     33   9         Male  Yes     No     \n",
              "384 384  14.292  3274 282    9     64   9         Male  No      Yes    \n",
              "385 385  20.088  1870 180    3     76  16         Male  No      No     \n",
              "386 386  26.400  5640 398    3     58  15        Female No      No     \n",
              "387 387  19.253  3683 287    4     57  10         Male  No      No     \n",
              "388 388  16.529  1357 126    3     62   9         Male  No      No     \n",
              "389 389  37.878  6827 482    2     80  13        Female No      No     \n",
              "390 390  83.948  7100 503    2     44  18         Male  No      No     \n",
              "391 391 135.118 10578 747    3     81  15        Female No      Yes    \n",
              "392 392  73.327  6555 472    2     43  15        Female No      No     \n",
              "393 393  25.974  2308 196    2     24  10         Male  No      No     \n",
              "394 394  17.316  1335 138    2     65  13         Male  No      No     \n",
              "395 395  49.794  5758 410    4     40   8         Male  No      No     \n",
              "396 396  12.096  4100 307    3     32  13         Male  No      Yes    \n",
              "397 397  13.364  3838 296    5     65  17         Male  No      No     \n",
              "398 398  57.872  4171 321    5     67  12        Female No      Yes    \n",
              "399 399  37.728  2525 192    1     44  13         Male  No      Yes    \n",
              "400 400  18.701  5524 415    5     64   7        Female No      No     \n",
              "    Ethnicity        Balance\n",
              "1   Caucasian         333   \n",
              "2   Asian             903   \n",
              "3   Asian             580   \n",
              "4   Asian             964   \n",
              "5   Caucasian         331   \n",
              "6   Caucasian        1151   \n",
              "7   African American  203   \n",
              "8   Asian             872   \n",
              "9   Caucasian         279   \n",
              "10  African American 1350   \n",
              "11  Caucasian        1407   \n",
              "12  Caucasian           0   \n",
              "13  Asian             204   \n",
              "14  Caucasian        1081   \n",
              "15  African American  148   \n",
              "16  African American    0   \n",
              "17  African American    0   \n",
              "18  Asian             368   \n",
              "19  Asian             891   \n",
              "20  Asian            1048   \n",
              "21  Asian              89   \n",
              "22  Caucasian         968   \n",
              "23  African American    0   \n",
              "24  African American  411   \n",
              "25  Caucasian           0   \n",
              "26  African American  671   \n",
              "27  Caucasian         654   \n",
              "28  African American  467   \n",
              "29  African American 1809   \n",
              "30  Caucasian         915   \n",
              "⋮   ⋮                ⋮      \n",
              "371 Caucasian         992   \n",
              "372 Caucasian           0   \n",
              "373 Caucasian         840   \n",
              "374 Caucasian        1003   \n",
              "375 Caucasian         588   \n",
              "376 Caucasian        1000   \n",
              "377 African American  767   \n",
              "378 Caucasian           0   \n",
              "379 Caucasian         717   \n",
              "380 Caucasian           0   \n",
              "381 African American  661   \n",
              "382 Caucasian         849   \n",
              "383 Caucasian        1352   \n",
              "384 Caucasian         382   \n",
              "385 African American    0   \n",
              "386 Asian             905   \n",
              "387 African American  371   \n",
              "388 Asian               0   \n",
              "389 Caucasian        1129   \n",
              "390 Caucasian         806   \n",
              "391 Asian            1393   \n",
              "392 Caucasian         721   \n",
              "393 Asian               0   \n",
              "394 African American    0   \n",
              "395 Caucasian         734   \n",
              "396 Caucasian         560   \n",
              "397 African American  480   \n",
              "398 Caucasian         138   \n",
              "399 Caucasian           0   \n",
              "400 Asian             966   "
            ]
          },
          "metadata": {}
        }
      ],
      "source": [
        "# INSERT CODE HERE\n",
        "Credit"
      ]
    },
    {
      "cell_type": "markdown",
      "metadata": {
        "id": "JDUsQVppGqVq"
      },
      "source": [
        "We can see that we have a nice **tidy** data frame here. Each column is a separate variable and each row is a different observation (in this case, simulated customers).\n",
        "\n",
        "The code below fits a linear model to predict credit card balance from the card limit and the card owner's credit rating, age, gender, and student status. This model is saved as the `cred_lm` model object. The `summary()` function extracts important summary information from the model object so we can interpret the results."
      ]
    },
    {
      "cell_type": "code",
      "execution_count": 25,
      "metadata": {
        "scrolled": false,
        "id": "8i6ubKhZGqVt",
        "outputId": "18ac3142-9597-4ee4-cbc8-a2fcfa4ca7fc",
        "colab": {
          "base_uri": "https://localhost:8080/",
          "height": 408
        }
      },
      "outputs": [
        {
          "output_type": "display_data",
          "data": {
            "text/plain": [
              "\n",
              "Call:\n",
              "lm(formula = Balance ~ Limit + Rating + Age + Gender + Student, \n",
              "    data = Credit)\n",
              "\n",
              "Residuals:\n",
              "    Min      1Q  Median      3Q     Max \n",
              "-682.49 -127.65    3.92  135.17  453.60 \n",
              "\n",
              "Coefficients:\n",
              "               Estimate Std. Error t value Pr(>|t|)    \n",
              "(Intercept)  -292.49382   48.88704  -5.983 4.92e-09 ***\n",
              "Limit           0.05265    0.05392   0.976 0.329428    \n",
              "Rating          1.80924    0.80462   2.249 0.025092 *  \n",
              "Age            -2.12967    0.57212  -3.722 0.000226 ***\n",
              "GenderFemale   -0.34809   19.63579  -0.018 0.985865    \n",
              "StudentYes    397.16094   32.76189  12.123  < 2e-16 ***\n",
              "---\n",
              "Signif. codes:  0 ‘***’ 0.001 ‘**’ 0.01 ‘*’ 0.05 ‘.’ 0.1 ‘ ’ 1\n",
              "\n",
              "Residual standard error: 195.9 on 394 degrees of freedom\n",
              "Multiple R-squared:  0.8207,\tAdjusted R-squared:  0.8184 \n",
              "F-statistic: 360.6 on 5 and 394 DF,  p-value: < 2.2e-16\n"
            ]
          },
          "metadata": {}
        }
      ],
      "source": [
        "cred_lm  <- lm(Balance ~ Limit + Rating + Age + Gender + Student, Credit)\n",
        "summary(cred_lm)"
      ]
    },
    {
      "cell_type": "markdown",
      "metadata": {
        "id": "YyKKSxHFGqVv"
      },
      "source": [
        "## 2. Replicating `summary` outputs (5 pts)\n",
        "\n",
        "Let's see if we can replicate some of the values included in the `summary()` output.\n",
        "\n",
        "Let's start with the residual standard error, aka sigma. We can see above that this is 195.9 for this model. You can directly extract sigma as follows:"
      ]
    },
    {
      "cell_type": "code",
      "execution_count": 72,
      "metadata": {
        "id": "rOXcXvQCGqVx",
        "outputId": "0129a815-5a5d-493b-cdf8-980964660caa",
        "colab": {
          "base_uri": "https://localhost:8080/",
          "height": 34
        }
      },
      "outputs": [
        {
          "output_type": "display_data",
          "data": {
            "text/html": [
              "195.920637384065"
            ],
            "text/markdown": "195.920637384065",
            "text/latex": "195.920637384065",
            "text/plain": [
              "[1] 195.9206"
            ]
          },
          "metadata": {}
        }
      ],
      "source": [
        "sigma(cred_lm)"
      ]
    },
    {
      "cell_type": "markdown",
      "metadata": {
        "id": "pn0oThRbGqVz"
      },
      "source": [
        "In `lm`, sigma is calculated as \n",
        "\n",
        "$$ \\sqrt{\\frac{SSE}{n-p}} $$\n",
        "\n",
        "Where SSE is the sum of squared errors, `n` is the number of observations, and `p` is the number of parameters estimated (hint: this includes the intercept). So the denominator boils down to the degrees of freedom. \n",
        "\n",
        "Below, use what you've learned about extracting information from model objects to calculate the SSE and extract `n` and `p`. \n",
        "\n",
        "Hint: remember that R is really good at *vectorized operations*, meaning it easily applies the same operation individually to each element of a given vector. "
      ]
    },
    {
      "cell_type": "code",
      "execution_count": 73,
      "metadata": {
        "scrolled": true,
        "id": "QxYYQBwUGqV2"
      },
      "outputs": [],
      "source": [
        "# INSERT CODE HERE\n",
        "# Calculate SSE\n",
        "errors_squared <- residuals(cred_lm) ^ 2\n",
        "sse <- sum(errors_squared)\n",
        "\n",
        "# Extract n\n",
        "n <- length(residuals(cred_lm))\n",
        "\n",
        "# Extract p\n",
        "p <- length(coefficients(cred_lm))\n",
        "\n"
      ]
    },
    {
      "cell_type": "markdown",
      "metadata": {
        "id": "GTxqPv6DGqV3"
      },
      "source": [
        "Now, combine your work above to write a function that takes any fitted linear model and returns the residual standard error. Then test your function on the `cred_lm` model object. Compare your answer to sigma extracted directly from the model object."
      ]
    },
    {
      "cell_type": "code",
      "execution_count": 74,
      "metadata": {
        "id": "qfYqxAjgGqV4"
      },
      "outputs": [],
      "source": [
        "# INSERT CODE HERE\n",
        "calculate_sigma <- function(lm) {\n",
        "  errors_squared <- residuals(cred_lm) ^ 2\n",
        "  sse <- sum(errors_squared)\n",
        "  n <- length(residuals(lm))\n",
        "  p <- length(coefficients(lm))\n",
        "  sigma <- sqrt(sse/n-p)\n",
        "  return(sigma)\n",
        "}\n"
      ]
    },
    {
      "cell_type": "code",
      "execution_count": 75,
      "metadata": {
        "id": "3rFmcm7EGqV5",
        "outputId": "109e08ab-56f5-4085-f1a6-0eec4e06e749",
        "colab": {
          "base_uri": "https://localhost:8080/",
          "height": 51
        }
      },
      "outputs": [
        {
          "output_type": "display_data",
          "data": {
            "text/html": [
              "194.430251531709"
            ],
            "text/markdown": "194.430251531709",
            "text/latex": "194.430251531709",
            "text/plain": [
              "[1] 194.4303"
            ]
          },
          "metadata": {}
        },
        {
          "output_type": "display_data",
          "data": {
            "text/html": [
              "195.920637384065"
            ],
            "text/markdown": "195.920637384065",
            "text/latex": "195.920637384065",
            "text/plain": [
              "[1] 195.9206"
            ]
          },
          "metadata": {}
        }
      ],
      "source": [
        "# Test and compare results. \n",
        "\n",
        "calculate_sigma(cred_lm) #Replace with your own function name\n",
        "sigma(cred_lm)"
      ]
    },
    {
      "cell_type": "markdown",
      "metadata": {
        "id": "AX4B1CxyZXqX"
      },
      "source": [
        "---\n",
        "## 2. Summary table and indexing (4 pts)\n",
        "\n",
        "Let's say we wanted to extract the entire coefficient table provided to us by the `summary()` function above, maybe for use in a publication. You might expect this to be pulled by:"
      ]
    },
    {
      "cell_type": "code",
      "execution_count": null,
      "metadata": {
        "id": "eXNzwa_NGqV8"
      },
      "outputs": [],
      "source": [
        "cred_lm$coefficients"
      ]
    },
    {
      "cell_type": "markdown",
      "metadata": {
        "id": "pm2Kwp-dGqV_"
      },
      "source": [
        "But as we saw in the tutorial, this pulls just the variable name and estimate, and not the standard error, t-statistic, or p-value. You could try to find where all this information is stored in the `cred_lm` object using the `str()` function."
      ]
    },
    {
      "cell_type": "code",
      "execution_count": null,
      "metadata": {
        "id": "aU8iMYzOGqWB"
      },
      "outputs": [],
      "source": [
        "str(cred_lm)"
      ]
    },
    {
      "cell_type": "markdown",
      "metadata": {
        "id": "WdJqXF4BGqWD"
      },
      "source": [
        "But you actually won't find it in there! That's because the information in the coefficient table is a component of `summary()`, not a component of the model object itself. That's right, `summary()` creates it's own object that you can further pull information from.\n",
        "\n",
        "Knowing this, pull the coefficient table from the `summary()` object."
      ]
    },
    {
      "cell_type": "code",
      "execution_count": 76,
      "metadata": {
        "id": "YjkUvMieGqWE",
        "outputId": "5d079641-a9aa-4ad5-fa6d-25e1f7f522c0",
        "colab": {
          "base_uri": "https://localhost:8080/",
          "height": 252
        }
      },
      "outputs": [
        {
          "output_type": "display_data",
          "data": {
            "text/html": [
              "<table class=\"dataframe\">\n",
              "<caption>A matrix: 6 × 4 of type dbl</caption>\n",
              "<thead>\n",
              "\t<tr><th></th><th scope=col>Estimate</th><th scope=col>Std. Error</th><th scope=col>t value</th><th scope=col>Pr(&gt;|t|)</th></tr>\n",
              "</thead>\n",
              "<tbody>\n",
              "\t<tr><th scope=row>(Intercept)</th><td>-292.49382335</td><td>48.88704367</td><td>-5.98305402</td><td>4.922383e-09</td></tr>\n",
              "\t<tr><th scope=row>Limit</th><td>   0.05265499</td><td> 0.05392354</td><td> 0.97647505</td><td>3.294283e-01</td></tr>\n",
              "\t<tr><th scope=row>Rating</th><td>   1.80924401</td><td> 0.80462003</td><td> 2.24856944</td><td>2.509189e-02</td></tr>\n",
              "\t<tr><th scope=row>Age</th><td>  -2.12966556</td><td> 0.57211502</td><td>-3.72244305</td><td>2.260330e-04</td></tr>\n",
              "\t<tr><th scope=row>GenderFemale</th><td>  -0.34809093</td><td>19.63578922</td><td>-0.01772737</td><td>9.858653e-01</td></tr>\n",
              "\t<tr><th scope=row>StudentYes</th><td> 397.16093911</td><td>32.76189104</td><td>12.12265002</td><td>5.800207e-29</td></tr>\n",
              "</tbody>\n",
              "</table>\n"
            ],
            "text/markdown": "\nA matrix: 6 × 4 of type dbl\n\n| <!--/--> | Estimate | Std. Error | t value | Pr(&gt;|t|) |\n|---|---|---|---|---|\n| (Intercept) | -292.49382335 | 48.88704367 | -5.98305402 | 4.922383e-09 |\n| Limit |    0.05265499 |  0.05392354 |  0.97647505 | 3.294283e-01 |\n| Rating |    1.80924401 |  0.80462003 |  2.24856944 | 2.509189e-02 |\n| Age |   -2.12966556 |  0.57211502 | -3.72244305 | 2.260330e-04 |\n| GenderFemale |   -0.34809093 | 19.63578922 | -0.01772737 | 9.858653e-01 |\n| StudentYes |  397.16093911 | 32.76189104 | 12.12265002 | 5.800207e-29 |\n\n",
            "text/latex": "A matrix: 6 × 4 of type dbl\n\\begin{tabular}{r|llll}\n  & Estimate & Std. Error & t value & Pr(>\\textbar{}t\\textbar{})\\\\\n\\hline\n\t(Intercept) & -292.49382335 & 48.88704367 & -5.98305402 & 4.922383e-09\\\\\n\tLimit &    0.05265499 &  0.05392354 &  0.97647505 & 3.294283e-01\\\\\n\tRating &    1.80924401 &  0.80462003 &  2.24856944 & 2.509189e-02\\\\\n\tAge &   -2.12966556 &  0.57211502 & -3.72244305 & 2.260330e-04\\\\\n\tGenderFemale &   -0.34809093 & 19.63578922 & -0.01772737 & 9.858653e-01\\\\\n\tStudentYes &  397.16093911 & 32.76189104 & 12.12265002 & 5.800207e-29\\\\\n\\end{tabular}\n",
            "text/plain": [
              "             Estimate      Std. Error  t value     Pr(>|t|)    \n",
              "(Intercept)  -292.49382335 48.88704367 -5.98305402 4.922383e-09\n",
              "Limit           0.05265499  0.05392354  0.97647505 3.294283e-01\n",
              "Rating          1.80924401  0.80462003  2.24856944 2.509189e-02\n",
              "Age            -2.12966556  0.57211502 -3.72244305 2.260330e-04\n",
              "GenderFemale   -0.34809093 19.63578922 -0.01772737 9.858653e-01\n",
              "StudentYes    397.16093911 32.76189104 12.12265002 5.800207e-29"
            ]
          },
          "metadata": {}
        }
      ],
      "source": [
        "# INSERT CODE HERE\n",
        "coefficients(summary(cred_lm))\n"
      ]
    },
    {
      "cell_type": "markdown",
      "metadata": {
        "id": "eh6jFW42GqWF"
      },
      "source": [
        "Maybe we are not interested in including the t-statistic in our final table. Pull **just** the estimate, SE, and p-value from the `summary()` object."
      ]
    },
    {
      "cell_type": "code",
      "execution_count": 98,
      "metadata": {
        "id": "PkFVswqlGqWG",
        "outputId": "eb8ebc12-0b81-46f4-d45c-d0f8a60c0e3e",
        "colab": {
          "base_uri": "https://localhost:8080/",
          "height": 252
        }
      },
      "outputs": [
        {
          "output_type": "display_data",
          "data": {
            "text/html": [
              "<table class=\"dataframe\">\n",
              "<caption>A matrix: 6 × 3 of type dbl</caption>\n",
              "<thead>\n",
              "\t<tr><th></th><th scope=col>Estimate</th><th scope=col>Std. Error</th><th scope=col>Pr(&gt;|t|)</th></tr>\n",
              "</thead>\n",
              "<tbody>\n",
              "\t<tr><th scope=row>(Intercept)</th><td>-292.49382335</td><td>48.88704367</td><td>4.922383e-09</td></tr>\n",
              "\t<tr><th scope=row>Limit</th><td>   0.05265499</td><td> 0.05392354</td><td>3.294283e-01</td></tr>\n",
              "\t<tr><th scope=row>Rating</th><td>   1.80924401</td><td> 0.80462003</td><td>2.509189e-02</td></tr>\n",
              "\t<tr><th scope=row>Age</th><td>  -2.12966556</td><td> 0.57211502</td><td>2.260330e-04</td></tr>\n",
              "\t<tr><th scope=row>GenderFemale</th><td>  -0.34809093</td><td>19.63578922</td><td>9.858653e-01</td></tr>\n",
              "\t<tr><th scope=row>StudentYes</th><td> 397.16093911</td><td>32.76189104</td><td>5.800207e-29</td></tr>\n",
              "</tbody>\n",
              "</table>\n"
            ],
            "text/markdown": "\nA matrix: 6 × 3 of type dbl\n\n| <!--/--> | Estimate | Std. Error | Pr(&gt;|t|) |\n|---|---|---|---|\n| (Intercept) | -292.49382335 | 48.88704367 | 4.922383e-09 |\n| Limit |    0.05265499 |  0.05392354 | 3.294283e-01 |\n| Rating |    1.80924401 |  0.80462003 | 2.509189e-02 |\n| Age |   -2.12966556 |  0.57211502 | 2.260330e-04 |\n| GenderFemale |   -0.34809093 | 19.63578922 | 9.858653e-01 |\n| StudentYes |  397.16093911 | 32.76189104 | 5.800207e-29 |\n\n",
            "text/latex": "A matrix: 6 × 3 of type dbl\n\\begin{tabular}{r|lll}\n  & Estimate & Std. Error & Pr(>\\textbar{}t\\textbar{})\\\\\n\\hline\n\t(Intercept) & -292.49382335 & 48.88704367 & 4.922383e-09\\\\\n\tLimit &    0.05265499 &  0.05392354 & 3.294283e-01\\\\\n\tRating &    1.80924401 &  0.80462003 & 2.509189e-02\\\\\n\tAge &   -2.12966556 &  0.57211502 & 2.260330e-04\\\\\n\tGenderFemale &   -0.34809093 & 19.63578922 & 9.858653e-01\\\\\n\tStudentYes &  397.16093911 & 32.76189104 & 5.800207e-29\\\\\n\\end{tabular}\n",
            "text/plain": [
              "             Estimate      Std. Error  Pr(>|t|)    \n",
              "(Intercept)  -292.49382335 48.88704367 4.922383e-09\n",
              "Limit           0.05265499  0.05392354 3.294283e-01\n",
              "Rating          1.80924401  0.80462003 2.509189e-02\n",
              "Age            -2.12966556  0.57211502 2.260330e-04\n",
              "GenderFemale   -0.34809093 19.63578922 9.858653e-01\n",
              "StudentYes    397.16093911 32.76189104 5.800207e-29"
            ]
          },
          "metadata": {}
        }
      ],
      "source": [
        "# INSERT CODE HERE\n",
        "summary(cred_lm)$coefficients[,c(1,2,4)]\n"
      ]
    },
    {
      "cell_type": "markdown",
      "metadata": {
        "id": "HtSmuF0PGqWH"
      },
      "source": [
        "Now, pull the table again but drop the `(Intercept)` term. (Don't save and alter your table above -- practice pulling the same table, minus the intercept term, directly from the summary.)"
      ]
    },
    {
      "cell_type": "code",
      "execution_count": 101,
      "metadata": {
        "id": "oIstLT-BGqWI",
        "outputId": "e474e5c7-739f-4a89-ee5c-ce462de7c604",
        "colab": {
          "base_uri": "https://localhost:8080/",
          "height": 221
        }
      },
      "outputs": [
        {
          "output_type": "display_data",
          "data": {
            "text/html": [
              "<table class=\"dataframe\">\n",
              "<caption>A matrix: 5 × 3 of type dbl</caption>\n",
              "<thead>\n",
              "\t<tr><th></th><th scope=col>Estimate</th><th scope=col>Std. Error</th><th scope=col>Pr(&gt;|t|)</th></tr>\n",
              "</thead>\n",
              "<tbody>\n",
              "\t<tr><th scope=row>Limit</th><td>  0.05265499</td><td> 0.05392354</td><td>3.294283e-01</td></tr>\n",
              "\t<tr><th scope=row>Rating</th><td>  1.80924401</td><td> 0.80462003</td><td>2.509189e-02</td></tr>\n",
              "\t<tr><th scope=row>Age</th><td> -2.12966556</td><td> 0.57211502</td><td>2.260330e-04</td></tr>\n",
              "\t<tr><th scope=row>GenderFemale</th><td> -0.34809093</td><td>19.63578922</td><td>9.858653e-01</td></tr>\n",
              "\t<tr><th scope=row>StudentYes</th><td>397.16093911</td><td>32.76189104</td><td>5.800207e-29</td></tr>\n",
              "</tbody>\n",
              "</table>\n"
            ],
            "text/markdown": "\nA matrix: 5 × 3 of type dbl\n\n| <!--/--> | Estimate | Std. Error | Pr(&gt;|t|) |\n|---|---|---|---|\n| Limit |   0.05265499 |  0.05392354 | 3.294283e-01 |\n| Rating |   1.80924401 |  0.80462003 | 2.509189e-02 |\n| Age |  -2.12966556 |  0.57211502 | 2.260330e-04 |\n| GenderFemale |  -0.34809093 | 19.63578922 | 9.858653e-01 |\n| StudentYes | 397.16093911 | 32.76189104 | 5.800207e-29 |\n\n",
            "text/latex": "A matrix: 5 × 3 of type dbl\n\\begin{tabular}{r|lll}\n  & Estimate & Std. Error & Pr(>\\textbar{}t\\textbar{})\\\\\n\\hline\n\tLimit &   0.05265499 &  0.05392354 & 3.294283e-01\\\\\n\tRating &   1.80924401 &  0.80462003 & 2.509189e-02\\\\\n\tAge &  -2.12966556 &  0.57211502 & 2.260330e-04\\\\\n\tGenderFemale &  -0.34809093 & 19.63578922 & 9.858653e-01\\\\\n\tStudentYes & 397.16093911 & 32.76189104 & 5.800207e-29\\\\\n\\end{tabular}\n",
            "text/plain": [
              "             Estimate     Std. Error  Pr(>|t|)    \n",
              "Limit          0.05265499  0.05392354 3.294283e-01\n",
              "Rating         1.80924401  0.80462003 2.509189e-02\n",
              "Age           -2.12966556  0.57211502 2.260330e-04\n",
              "GenderFemale  -0.34809093 19.63578922 9.858653e-01\n",
              "StudentYes   397.16093911 32.76189104 5.800207e-29"
            ]
          },
          "metadata": {}
        }
      ],
      "source": [
        "# INSERT CODE HERE\n",
        "summary(cred_lm)$coefficients[c(2,3,4,5,6),c(1,2,4)]\n"
      ]
    },
    {
      "cell_type": "markdown",
      "metadata": {
        "id": "2slWzsoYGuLt"
      },
      "source": [
        "That's all for Exercise 3! When you are finished, save the notebook as Exercise3.ipynb, push it to your class GitHub repository and send the instructors a link to your notebook via Canvas. You can send messages via Canvas by clicking \"Inbox\" on the left and then pressing the icon with a pencil inside a square."
      ]
    },
    {
      "cell_type": "markdown",
      "metadata": {
        "id": "C4MPECMmZXqe"
      },
      "source": [
        "**DUE:** 5pm EST, Feb 8, 2023"
      ]
    },
    {
      "cell_type": "markdown",
      "metadata": {
        "id": "r9GUofXN4BVy"
      },
      "source": [
        "**IMPORTANT** Did you collaborate with anyone on this assignment? If so, list their names here. \n",
        "> *Someone's Name*"
      ]
    }
  ],
  "metadata": {
    "colab": {
      "provenance": []
    },
    "kernelspec": {
      "display_name": "R",
      "language": "R",
      "name": "ir"
    },
    "language_info": {
      "codemirror_mode": "r",
      "file_extension": ".r",
      "mimetype": "text/x-r-source",
      "name": "R",
      "pygments_lexer": "r",
      "version": "4.2.0"
    }
  },
  "nbformat": 4,
  "nbformat_minor": 0
}